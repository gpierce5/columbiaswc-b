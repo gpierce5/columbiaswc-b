{
 "cells": [
  {
   "cell_type": "markdown",
   "metadata": {},
   "source": [
    "# Columbia x Software Carpentry :: Python B<br>Bash Quizzes\n",
    "\n",
    "### 1: Exploring `ls` flags\n",
    "\n",
    "What does the command `ls` do when used with the `-l` and `-h` flags?"
   ]
  },
  {
   "cell_type": "code",
   "execution_count": null,
   "metadata": {
    "scrolled": false
   },
   "outputs": [],
   "source": [
    "!ls -l -h"
   ]
  },
  {
   "cell_type": "markdown",
   "metadata": {},
   "source": [
    "What does the command `ls` do when used with the `-R` flag?"
   ]
  },
  {
   "cell_type": "code",
   "execution_count": null,
   "metadata": {},
   "outputs": [],
   "source": [
    "!ls -R"
   ]
  },
  {
   "cell_type": "markdown",
   "metadata": {},
   "source": [
    "### 2. Absolute vs. Relative Paths"
   ]
  },
  {
   "cell_type": "markdown",
   "metadata": {},
   "source": [
    "Starting from the directory `Users/amanda/data`, which of the following commands could Amanda use to navigate into the home directory `/Users/amanda/` ?\n",
    "\n",
    "1. `cd .`\n",
    "2. `cd /`\n",
    "3. `cd /home/amanda`\n",
    "4. `cd ../..`\n",
    "5. `cd ~`\n",
    "6. `cd home`\n",
    "7. `cd ~/data/..`\n",
    "8. `cd`\n",
    "9. `cd ..`"
   ]
  },
  {
   "cell_type": "markdown",
   "metadata": {},
   "source": [
    "### 3. Removing safely\n",
    "\n",
    "What happens when you try removing a file in your directory with the `-i` flag?"
   ]
  },
  {
   "cell_type": "code",
   "execution_count": null,
   "metadata": {},
   "outputs": [],
   "source": [
    "!rm -i temp.txt"
   ]
  },
  {
   "cell_type": "markdown",
   "metadata": {},
   "source": [
    "### 4. Moving to the Current Folder\n",
    "\n",
    "After running the following commands, Jamie realizes she put the files `sucrose.dat` and `maltose.dat` into the wrong folder. How can she move them into the current working directory?\n",
    "\n",
    "```\n",
    "$ ls -F\n",
    "  analyzed/ raw/\n",
    "$ ls -F analyzed\n",
    "  fructose.dat glucose.dat maltose.dat sucrose.dat\n",
    "$ cd raw/\n",
    "```"
   ]
  },
  {
   "cell_type": "markdown",
   "metadata": {},
   "source": [
    "### 5. Renaming Files\n",
    "\n",
    "Suppose you created a file `statstics.txt` then realized you misspelled it (it should be `statistics.txt`). How would you fix it?\n",
    "\n",
    "1. `cp statstics.txt statistics.txt`\n",
    "2. `mv statstics.txt statistics.txt`\n",
    "3. `mv statstics.txt .`\n",
    "4. `cp statstics.txt .`"
   ]
  },
  {
   "cell_type": "markdown",
   "metadata": {},
   "source": [
    "### 6. Using Wildcards\n",
    "\n",
    "When run in the `molecules` directory, which command(s) will produce the output `ethane.pdb methane.pdb`?\n",
    "\n",
    " 1. `ls *t*ane.pdb`\n",
    " 2. `ls *t?ane.*`\n",
    " 3. `ls *t??ne.pdb`\n",
    " 4. `ls ethane.*`"
   ]
  },
  {
   "cell_type": "markdown",
   "metadata": {},
   "source": [
    "### 7. What Does `>>` Mean?\n",
    "\n",
    "Try `echo helo > testfile01.txt` and `echo hello >> testfile02.txt` each a few times to figure out what `>>` does. Hint: use `cat` to view the files' contents."
   ]
  },
  {
   "cell_type": "markdown",
   "metadata": {},
   "source": [
    "### 8. Piping Commands Together\n",
    "\n",
    "In our current working directory, we want to find the 3 files which have the least number of lines. Which command listed would work?\n",
    "\n",
    "1. `wc -l * > sort -n > head -n 3`\n",
    "2. `wc -l * > sort -n | head -n 1-3`\n",
    "3. `wc -l * | head -n 3 | sort -n `\n",
    "4. `wc -l * | sort -n | head -n 3`"
   ]
  },
  {
   "cell_type": "markdown",
   "metadata": {},
   "source": [
    "### 9. What Does `<` Mean?\n",
    "\n",
    "Move into the `data-shell` directory to test out the following commands. What's the difference?\n",
    "\n",
    "```\n",
    "$ wc -l notes.txt\n",
    "$ wc -l < notes.txt\n",
    "```"
   ]
  },
  {
   "cell_type": "markdown",
   "metadata": {},
   "source": [
    "### 10. How does `uniq` work?\n",
    "\n",
    "Move into `~/Desktop/data-shell/data` and try the command `uniq salmon.txt`. Why does it produce the output it does? What would produce unique results?"
   ]
  },
  {
   "cell_type": "code",
   "execution_count": null,
   "metadata": {},
   "outputs": [],
   "source": []
  }
 ],
 "metadata": {
  "kernelspec": {
   "display_name": "Python 3",
   "language": "python",
   "name": "python3"
  },
  "language_info": {
   "codemirror_mode": {
    "name": "ipython",
    "version": 3
   },
   "file_extension": ".py",
   "mimetype": "text/x-python",
   "name": "python",
   "nbconvert_exporter": "python",
   "pygments_lexer": "ipython3",
   "version": "3.6.5"
  }
 },
 "nbformat": 4,
 "nbformat_minor": 2
}
